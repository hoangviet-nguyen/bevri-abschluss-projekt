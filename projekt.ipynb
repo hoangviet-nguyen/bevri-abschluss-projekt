{
  "nbformat": 4,
  "nbformat_minor": 0,
  "metadata": {
    "colab": {
      "provenance": [],
      "authorship_tag": "ABX9TyOYYoiL4KuHOhuB/0PQyJHC",
      "include_colab_link": true
    },
    "kernelspec": {
      "name": "python3",
      "display_name": "Python 3"
    },
    "language_info": {
      "name": "python"
    }
  },
  "cells": [
    {
      "cell_type": "markdown",
      "metadata": {
        "id": "view-in-github",
        "colab_type": "text"
      },
      "source": [
        "<a href=\"https://colab.research.google.com/github/hoangviet-nguyen/bevri-abschluss-projekt/blob/main/projekt.ipynb\" target=\"_parent\"><img src=\"https://colab.research.google.com/assets/colab-badge.svg\" alt=\"Open In Colab\"/></a>"
      ]
    },
    {
      "cell_type": "markdown",
      "source": [
        "# Projekt: Under Water Image Segmentation"
      ],
      "metadata": {
        "id": "8OirKO_lSMH3"
      }
    },
    {
      "cell_type": "markdown",
      "source": [
        "## Download dataset: SUIM dataset"
      ],
      "metadata": {
        "id": "ItXUML6pYku9"
      }
    },
    {
      "cell_type": "markdown",
      "source": [
        "## Data Inspection"
      ],
      "metadata": {
        "id": "q5e6lca2Yp2j"
      }
    },
    {
      "cell_type": "markdown",
      "source": [
        "## Building a dataset"
      ],
      "metadata": {
        "id": "ygvKvo6raHOg"
      }
    },
    {
      "cell_type": "markdown",
      "source": [
        "## Fully-Convolutional Network"
      ],
      "metadata": {
        "id": "nRJBvcRBagbq"
      }
    },
    {
      "cell_type": "markdown",
      "source": [
        "## Model Metrics"
      ],
      "metadata": {
        "id": "RZNT5IFybTb3"
      }
    },
    {
      "cell_type": "markdown",
      "source": [
        "## Suim-Net Model"
      ],
      "metadata": {
        "id": "jv1zQNRYatsx"
      }
    },
    {
      "cell_type": "markdown",
      "source": [
        "## Model Comparison"
      ],
      "metadata": {
        "id": "ML0E-DM2bLpf"
      }
    }
  ]
}