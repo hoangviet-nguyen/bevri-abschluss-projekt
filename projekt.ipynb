{
  "nbformat": 4,
  "nbformat_minor": 0,
  "metadata": {
    "colab": {
      "provenance": [],
      "authorship_tag": "ABX9TyOuCAEVdE0JNCFwAMuh5gea",
      "include_colab_link": true
    },
    "kernelspec": {
      "name": "python3",
      "display_name": "Python 3"
    },
    "language_info": {
      "name": "python"
    }
  },
  "cells": [
    {
      "cell_type": "markdown",
      "metadata": {
        "id": "view-in-github",
        "colab_type": "text"
      },
      "source": [
        "<a href=\"https://colab.research.google.com/github/hoangviet-nguyen/bevri-abschluss-projekt/blob/main/projekt.ipynb\" target=\"_parent\"><img src=\"https://colab.research.google.com/assets/colab-badge.svg\" alt=\"Open In Colab\"/></a>"
      ]
    },
    {
      "cell_type": "markdown",
      "source": [],
      "metadata": {
        "id": "rtpDdRqqSGnh"
      }
    },
    {
      "cell_type": "markdown",
      "source": [
        "Under Water Image Segmentation"
      ],
      "metadata": {
        "id": "8OirKO_lSMH3"
      }
    },
    {
      "cell_type": "code",
      "source": [],
      "metadata": {
        "id": "RgoNGYgsSXqO"
      },
      "execution_count": null,
      "outputs": []
    }
  ]
}